{
 "cells": [
  {
   "cell_type": "code",
   "execution_count": 36,
   "id": "768918eb",
   "metadata": {},
   "outputs": [],
   "source": [
    "import numpy as np\n",
    "import pandas as pd\n",
    "\n",
    "import matplotlib.pyplot as plt\n",
    "import seaborn as sns"
   ]
  },
  {
   "cell_type": "code",
   "execution_count": 3,
   "id": "418201fe",
   "metadata": {},
   "outputs": [
    {
     "data": {
      "text/html": [
       "<div>\n",
       "<style scoped>\n",
       "    .dataframe tbody tr th:only-of-type {\n",
       "        vertical-align: middle;\n",
       "    }\n",
       "\n",
       "    .dataframe tbody tr th {\n",
       "        vertical-align: top;\n",
       "    }\n",
       "\n",
       "    .dataframe thead th {\n",
       "        text-align: right;\n",
       "    }\n",
       "</style>\n",
       "<table border=\"1\" class=\"dataframe\">\n",
       "  <thead>\n",
       "    <tr style=\"text-align: right;\">\n",
       "      <th></th>\n",
       "      <th>birth_year</th>\n",
       "      <th>annual_income</th>\n",
       "      <th>children</th>\n",
       "      <th>recency</th>\n",
       "      <th>amount_alcohol</th>\n",
       "      <th>amount_fruit</th>\n",
       "      <th>amount_meat</th>\n",
       "      <th>amount_fish</th>\n",
       "      <th>amount_snack</th>\n",
       "      <th>amount_general</th>\n",
       "      <th>...</th>\n",
       "      <th>promotion_1</th>\n",
       "      <th>promotion_2</th>\n",
       "      <th>promotion_3</th>\n",
       "      <th>promotion_4</th>\n",
       "      <th>promotion_5</th>\n",
       "      <th>promotion_6</th>\n",
       "      <th>revenue</th>\n",
       "      <th>marital_status_married</th>\n",
       "      <th>marital_status_single</th>\n",
       "      <th>marital_status_widowed</th>\n",
       "    </tr>\n",
       "  </thead>\n",
       "  <tbody>\n",
       "    <tr>\n",
       "      <th>0</th>\n",
       "      <td>1965.0</td>\n",
       "      <td>75579400.0</td>\n",
       "      <td>0.0</td>\n",
       "      <td>58.0</td>\n",
       "      <td>825500.0</td>\n",
       "      <td>114400.0</td>\n",
       "      <td>709800.0</td>\n",
       "      <td>223600.0</td>\n",
       "      <td>114400.0</td>\n",
       "      <td>114400.0</td>\n",
       "      <td>...</td>\n",
       "      <td>0.0</td>\n",
       "      <td>0.0</td>\n",
       "      <td>0.0</td>\n",
       "      <td>0.0</td>\n",
       "      <td>0.0</td>\n",
       "      <td>1.0</td>\n",
       "      <td>11.0</td>\n",
       "      <td>0.0</td>\n",
       "      <td>1.0</td>\n",
       "      <td>0.0</td>\n",
       "    </tr>\n",
       "    <tr>\n",
       "      <th>1</th>\n",
       "      <td>1962.0</td>\n",
       "      <td>60247200.0</td>\n",
       "      <td>2.0</td>\n",
       "      <td>38.0</td>\n",
       "      <td>14300.0</td>\n",
       "      <td>1300.0</td>\n",
       "      <td>7800.0</td>\n",
       "      <td>2600.0</td>\n",
       "      <td>1300.0</td>\n",
       "      <td>7800.0</td>\n",
       "      <td>...</td>\n",
       "      <td>0.0</td>\n",
       "      <td>0.0</td>\n",
       "      <td>0.0</td>\n",
       "      <td>0.0</td>\n",
       "      <td>0.0</td>\n",
       "      <td>0.0</td>\n",
       "      <td>11.0</td>\n",
       "      <td>0.0</td>\n",
       "      <td>1.0</td>\n",
       "      <td>0.0</td>\n",
       "    </tr>\n",
       "    <tr>\n",
       "      <th>2</th>\n",
       "      <td>1973.0</td>\n",
       "      <td>93096900.0</td>\n",
       "      <td>0.0</td>\n",
       "      <td>26.0</td>\n",
       "      <td>553800.0</td>\n",
       "      <td>63700.0</td>\n",
       "      <td>165100.0</td>\n",
       "      <td>144300.0</td>\n",
       "      <td>27300.0</td>\n",
       "      <td>54600.0</td>\n",
       "      <td>...</td>\n",
       "      <td>0.0</td>\n",
       "      <td>0.0</td>\n",
       "      <td>0.0</td>\n",
       "      <td>0.0</td>\n",
       "      <td>0.0</td>\n",
       "      <td>0.0</td>\n",
       "      <td>11.0</td>\n",
       "      <td>1.0</td>\n",
       "      <td>0.0</td>\n",
       "      <td>0.0</td>\n",
       "    </tr>\n",
       "    <tr>\n",
       "      <th>3</th>\n",
       "      <td>1992.0</td>\n",
       "      <td>34639800.0</td>\n",
       "      <td>1.0</td>\n",
       "      <td>26.0</td>\n",
       "      <td>14300.0</td>\n",
       "      <td>5200.0</td>\n",
       "      <td>26000.0</td>\n",
       "      <td>13000.0</td>\n",
       "      <td>3900.0</td>\n",
       "      <td>6500.0</td>\n",
       "      <td>...</td>\n",
       "      <td>0.0</td>\n",
       "      <td>0.0</td>\n",
       "      <td>0.0</td>\n",
       "      <td>0.0</td>\n",
       "      <td>0.0</td>\n",
       "      <td>0.0</td>\n",
       "      <td>11.0</td>\n",
       "      <td>1.0</td>\n",
       "      <td>0.0</td>\n",
       "      <td>0.0</td>\n",
       "    </tr>\n",
       "    <tr>\n",
       "      <th>4</th>\n",
       "      <td>1989.0</td>\n",
       "      <td>75780900.0</td>\n",
       "      <td>1.0</td>\n",
       "      <td>94.0</td>\n",
       "      <td>224900.0</td>\n",
       "      <td>55900.0</td>\n",
       "      <td>153400.0</td>\n",
       "      <td>59800.0</td>\n",
       "      <td>35100.0</td>\n",
       "      <td>19500.0</td>\n",
       "      <td>...</td>\n",
       "      <td>0.0</td>\n",
       "      <td>0.0</td>\n",
       "      <td>0.0</td>\n",
       "      <td>0.0</td>\n",
       "      <td>0.0</td>\n",
       "      <td>0.0</td>\n",
       "      <td>11.0</td>\n",
       "      <td>1.0</td>\n",
       "      <td>0.0</td>\n",
       "      <td>0.0</td>\n",
       "    </tr>\n",
       "  </tbody>\n",
       "</table>\n",
       "<p>5 rows × 23 columns</p>\n",
       "</div>"
      ],
      "text/plain": [
       "   birth_year  annual_income  children  recency  amount_alcohol  amount_fruit  \\\n",
       "0      1965.0     75579400.0       0.0     58.0        825500.0      114400.0   \n",
       "1      1962.0     60247200.0       2.0     38.0         14300.0        1300.0   \n",
       "2      1973.0     93096900.0       0.0     26.0        553800.0       63700.0   \n",
       "3      1992.0     34639800.0       1.0     26.0         14300.0        5200.0   \n",
       "4      1989.0     75780900.0       1.0     94.0        224900.0       55900.0   \n",
       "\n",
       "   amount_meat  amount_fish  amount_snack  amount_general  ...  promotion_1  \\\n",
       "0     709800.0     223600.0      114400.0        114400.0  ...          0.0   \n",
       "1       7800.0       2600.0        1300.0          7800.0  ...          0.0   \n",
       "2     165100.0     144300.0       27300.0         54600.0  ...          0.0   \n",
       "3      26000.0      13000.0        3900.0          6500.0  ...          0.0   \n",
       "4     153400.0      59800.0       35100.0         19500.0  ...          0.0   \n",
       "\n",
       "   promotion_2  promotion_3  promotion_4  promotion_5  promotion_6  revenue  \\\n",
       "0          0.0          0.0          0.0          0.0          1.0     11.0   \n",
       "1          0.0          0.0          0.0          0.0          0.0     11.0   \n",
       "2          0.0          0.0          0.0          0.0          0.0     11.0   \n",
       "3          0.0          0.0          0.0          0.0          0.0     11.0   \n",
       "4          0.0          0.0          0.0          0.0          0.0     11.0   \n",
       "\n",
       "   marital_status_married  marital_status_single  marital_status_widowed  \n",
       "0                     0.0                    1.0                     0.0  \n",
       "1                     0.0                    1.0                     0.0  \n",
       "2                     1.0                    0.0                     0.0  \n",
       "3                     1.0                    0.0                     0.0  \n",
       "4                     1.0                    0.0                     0.0  \n",
       "\n",
       "[5 rows x 23 columns]"
      ]
     },
     "execution_count": 3,
     "metadata": {},
     "output_type": "execute_result"
    }
   ],
   "source": [
    "df = pd.read_csv('customer_data_processed.csv')\n",
    "df.head()"
   ]
  },
  {
   "cell_type": "markdown",
   "id": "61a10bdf",
   "metadata": {},
   "source": [
    "## Exploring Customer Age Distribution"
   ]
  },
  {
   "cell_type": "code",
   "execution_count": 6,
   "id": "033f4c7a",
   "metadata": {},
   "outputs": [],
   "source": [
    "# Create a new column called age\n",
    "df['age'] = 2024 - df['birth_year']"
   ]
  },
  {
   "cell_type": "code",
   "execution_count": 8,
   "id": "a0b6ac8c",
   "metadata": {},
   "outputs": [
    {
     "data": {
      "text/plain": [
       "Text(0.5, 1.0, 'Customer Age Distribution')"
      ]
     },
     "execution_count": 8,
     "metadata": {},
     "output_type": "execute_result"
    },
    {
     "data": {
      "image/png": "[encoded data removed]",
      "text/plain": [
       "<Figure size 640x480 with 1 Axes>"
      ]
     },
     "metadata": {},
     "output_type": "display_data"
    }
   ],
   "source": [
    "sns.histplot(df['age'])\n",
    "plt.title('Customer Age Distribution')"
   ]
  },
  {
   "cell_type": "markdown",
   "id": "43b42327",
   "metadata": {},
   "source": [
    "The majority of customers are in their late 30s and 40s. However, I can also see that there are some customers who are around 120 years old."
   ]
  },
  {
   "cell_type": "code",
   "execution_count": 9,
   "id": "14333523",
   "metadata": {},
   "outputs": [
    {
     "data": {
      "text/plain": [
       "count    2240.000000\n",
       "mean       47.194196\n",
       "std        11.984069\n",
       "min        20.000000\n",
       "25%        39.000000\n",
       "50%        46.000000\n",
       "75%        57.000000\n",
       "max       123.000000\n",
       "Name: age, dtype: float64"
      ]
     },
     "execution_count": 9,
     "metadata": {},
     "output_type": "execute_result"
    }
   ],
   "source": [
    "# Validate cusomter age\n",
    "df['age'].describe()"
   ]
  },
  {
   "cell_type": "markdown",
   "id": "83c08d8e",
   "metadata": {},
   "source": [
    "The oldest customer is 123 years old, which is possible, but unlikely. For a more accurate analysis, I will include customers who are younger than 100 years old."
   ]
  },
  {
   "cell_type": "code",
   "execution_count": 10,
   "id": "a97d49f9",
   "metadata": {},
   "outputs": [],
   "source": [
    "df = df[df['age'] <= 100]"
   ]
  },
  {
   "cell_type": "code",
   "execution_count": 21,
   "id": "3a106d16",
   "metadata": {},
   "outputs": [
    {
     "data": {
      "text/plain": [
       "Text(0.5, 1.0, 'Customer Age Distribution')"
      ]
     },
     "execution_count": 21,
     "metadata": {},
     "output_type": "execute_result"
    },
    {
     "data": {
      "image/png": "[encoded data removed]",
      "text/plain": [
       "<Figure size 640x480 with 1 Axes>"
      ]
     },
     "metadata": {},
     "output_type": "display_data"
    }
   ],
   "source": [
    "sns.histplot(df['age'])\n",
    "plt.title('Customer Age Distribution')"
   ]
  },
  {
   "cell_type": "markdown",
   "id": "dc7b5a7b",
   "metadata": {},
   "source": [
    "For easier interpretation, let's create a new column called age_group to group customers by age."
   ]
  },
  {
   "cell_type": "code",
   "execution_count": 24,
   "id": "69f15cc3",
   "metadata": {},
   "outputs": [
    {
     "data": {
      "text/html": [
       "<div>\n",
       "<style scoped>\n",
       "    .dataframe tbody tr th:only-of-type {\n",
       "        vertical-align: middle;\n",
       "    }\n",
       "\n",
       "    .dataframe tbody tr th {\n",
       "        vertical-align: top;\n",
       "    }\n",
       "\n",
       "    .dataframe thead th {\n",
       "        text-align: right;\n",
       "    }\n",
       "</style>\n",
       "<table border=\"1\" class=\"dataframe\">\n",
       "  <thead>\n",
       "    <tr style=\"text-align: right;\">\n",
       "      <th></th>\n",
       "      <th>birth_year</th>\n",
       "      <th>annual_income</th>\n",
       "      <th>children</th>\n",
       "      <th>recency</th>\n",
       "      <th>amount_alcohol</th>\n",
       "      <th>amount_fruit</th>\n",
       "      <th>amount_meat</th>\n",
       "      <th>amount_fish</th>\n",
       "      <th>amount_snack</th>\n",
       "      <th>amount_general</th>\n",
       "      <th>...</th>\n",
       "      <th>promotion_3</th>\n",
       "      <th>promotion_4</th>\n",
       "      <th>promotion_5</th>\n",
       "      <th>promotion_6</th>\n",
       "      <th>revenue</th>\n",
       "      <th>marital_status_married</th>\n",
       "      <th>marital_status_single</th>\n",
       "      <th>marital_status_widowed</th>\n",
       "      <th>age</th>\n",
       "      <th>age_group</th>\n",
       "    </tr>\n",
       "  </thead>\n",
       "  <tbody>\n",
       "    <tr>\n",
       "      <th>0</th>\n",
       "      <td>1965.0</td>\n",
       "      <td>75579400.0</td>\n",
       "      <td>0.0</td>\n",
       "      <td>58.0</td>\n",
       "      <td>825500.0</td>\n",
       "      <td>114400.0</td>\n",
       "      <td>709800.0</td>\n",
       "      <td>223600.0</td>\n",
       "      <td>114400.0</td>\n",
       "      <td>114400.0</td>\n",
       "      <td>...</td>\n",
       "      <td>0.0</td>\n",
       "      <td>0.0</td>\n",
       "      <td>0.0</td>\n",
       "      <td>1.0</td>\n",
       "      <td>11.0</td>\n",
       "      <td>0.0</td>\n",
       "      <td>1.0</td>\n",
       "      <td>0.0</td>\n",
       "      <td>59.0</td>\n",
       "      <td>50s</td>\n",
       "    </tr>\n",
       "    <tr>\n",
       "      <th>1</th>\n",
       "      <td>1962.0</td>\n",
       "      <td>60247200.0</td>\n",
       "      <td>2.0</td>\n",
       "      <td>38.0</td>\n",
       "      <td>14300.0</td>\n",
       "      <td>1300.0</td>\n",
       "      <td>7800.0</td>\n",
       "      <td>2600.0</td>\n",
       "      <td>1300.0</td>\n",
       "      <td>7800.0</td>\n",
       "      <td>...</td>\n",
       "      <td>0.0</td>\n",
       "      <td>0.0</td>\n",
       "      <td>0.0</td>\n",
       "      <td>0.0</td>\n",
       "      <td>11.0</td>\n",
       "      <td>0.0</td>\n",
       "      <td>1.0</td>\n",
       "      <td>0.0</td>\n",
       "      <td>62.0</td>\n",
       "      <td>60s</td>\n",
       "    </tr>\n",
       "    <tr>\n",
       "      <th>2</th>\n",
       "      <td>1973.0</td>\n",
       "      <td>93096900.0</td>\n",
       "      <td>0.0</td>\n",
       "      <td>26.0</td>\n",
       "      <td>553800.0</td>\n",
       "      <td>63700.0</td>\n",
       "      <td>165100.0</td>\n",
       "      <td>144300.0</td>\n",
       "      <td>27300.0</td>\n",
       "      <td>54600.0</td>\n",
       "      <td>...</td>\n",
       "      <td>0.0</td>\n",
       "      <td>0.0</td>\n",
       "      <td>0.0</td>\n",
       "      <td>0.0</td>\n",
       "      <td>11.0</td>\n",
       "      <td>1.0</td>\n",
       "      <td>0.0</td>\n",
       "      <td>0.0</td>\n",
       "      <td>51.0</td>\n",
       "      <td>50s</td>\n",
       "    </tr>\n",
       "    <tr>\n",
       "      <th>3</th>\n",
       "      <td>1992.0</td>\n",
       "      <td>34639800.0</td>\n",
       "      <td>1.0</td>\n",
       "      <td>26.0</td>\n",
       "      <td>14300.0</td>\n",
       "      <td>5200.0</td>\n",
       "      <td>26000.0</td>\n",
       "      <td>13000.0</td>\n",
       "      <td>3900.0</td>\n",
       "      <td>6500.0</td>\n",
       "      <td>...</td>\n",
       "      <td>0.0</td>\n",
       "      <td>0.0</td>\n",
       "      <td>0.0</td>\n",
       "      <td>0.0</td>\n",
       "      <td>11.0</td>\n",
       "      <td>1.0</td>\n",
       "      <td>0.0</td>\n",
       "      <td>0.0</td>\n",
       "      <td>32.0</td>\n",
       "      <td>30s</td>\n",
       "    </tr>\n",
       "    <tr>\n",
       "      <th>4</th>\n",
       "      <td>1989.0</td>\n",
       "      <td>75780900.0</td>\n",
       "      <td>1.0</td>\n",
       "      <td>94.0</td>\n",
       "      <td>224900.0</td>\n",
       "      <td>55900.0</td>\n",
       "      <td>153400.0</td>\n",
       "      <td>59800.0</td>\n",
       "      <td>35100.0</td>\n",
       "      <td>19500.0</td>\n",
       "      <td>...</td>\n",
       "      <td>0.0</td>\n",
       "      <td>0.0</td>\n",
       "      <td>0.0</td>\n",
       "      <td>0.0</td>\n",
       "      <td>11.0</td>\n",
       "      <td>1.0</td>\n",
       "      <td>0.0</td>\n",
       "      <td>0.0</td>\n",
       "      <td>35.0</td>\n",
       "      <td>30s</td>\n",
       "    </tr>\n",
       "  </tbody>\n",
       "</table>\n",
       "<p>5 rows × 25 columns</p>\n",
       "</div>"
      ],
      "text/plain": [
       "   birth_year  annual_income  children  recency  amount_alcohol  amount_fruit  \\\n",
       "0      1965.0     75579400.0       0.0     58.0        825500.0      114400.0   \n",
       "1      1962.0     60247200.0       2.0     38.0         14300.0        1300.0   \n",
       "2      1973.0     93096900.0       0.0     26.0        553800.0       63700.0   \n",
       "3      1992.0     34639800.0       1.0     26.0         14300.0        5200.0   \n",
       "4      1989.0     75780900.0       1.0     94.0        224900.0       55900.0   \n",
       "\n",
       "   amount_meat  amount_fish  amount_snack  amount_general  ...  promotion_3  \\\n",
       "0     709800.0     223600.0      114400.0        114400.0  ...          0.0   \n",
       "1       7800.0       2600.0        1300.0          7800.0  ...          0.0   \n",
       "2     165100.0     144300.0       27300.0         54600.0  ...          0.0   \n",
       "3      26000.0      13000.0        3900.0          6500.0  ...          0.0   \n",
       "4     153400.0      59800.0       35100.0         19500.0  ...          0.0   \n",
       "\n",
       "   promotion_4  promotion_5  promotion_6  revenue  marital_status_married  \\\n",
       "0          0.0          0.0          1.0     11.0                     0.0   \n",
       "1          0.0          0.0          0.0     11.0                     0.0   \n",
       "2          0.0          0.0          0.0     11.0                     1.0   \n",
       "3          0.0          0.0          0.0     11.0                     1.0   \n",
       "4          0.0          0.0          0.0     11.0                     1.0   \n",
       "\n",
       "   marital_status_single  marital_status_widowed   age  age_group  \n",
       "0                    1.0                     0.0  59.0        50s  \n",
       "1                    1.0                     0.0  62.0        60s  \n",
       "2                    0.0                     0.0  51.0        50s  \n",
       "3                    0.0                     0.0  32.0        30s  \n",
       "4                    0.0                     0.0  35.0        30s  \n",
       "\n",
       "[5 rows x 25 columns]"
      ]
     },
     "execution_count": 24,
     "metadata": {},
     "output_type": "execute_result"
    }
   ],
   "source": [
    "age_bins = list(range(20, 81, 10))\n",
    "age_labels = [f'{x}s' for x in age_bins[:-1]]\n",
    "age_group = pd.cut(df['age'], bins=age_bins, labels=age_labels, right=False)\n",
    "df['age_group'] = age_group\n",
    "df.head()"
   ]
  },
  {
   "cell_type": "code",
   "execution_count": 26,
   "id": "163f26ae",
   "metadata": {},
   "outputs": [
    {
     "data": {
      "text/plain": [
       "40s    724\n",
       "50s    487\n",
       "30s    459\n",
       "60s    380\n",
       "20s    147\n",
       "70s     40\n",
       "Name: age_group, dtype: int64"
      ]
     },
     "execution_count": 26,
     "metadata": {},
     "output_type": "execute_result"
    }
   ],
   "source": [
    "df['age_group'].value_counts()"
   ]
  },
  {
   "cell_type": "markdown",
   "id": "72e6daf5",
   "metadata": {},
   "source": [
    "Since there are only 40 customers in their 70s, it might beneifical for us to combine them to 60+ group."
   ]
  },
  {
   "cell_type": "code",
   "execution_count": 27,
   "id": "6250050a",
   "metadata": {},
   "outputs": [
    {
     "data": {
      "text/plain": [
       "40s    724\n",
       "50s    487\n",
       "30s    459\n",
       "60+    420\n",
       "20s    147\n",
       "Name: age_group, dtype: int64"
      ]
     },
     "execution_count": 27,
     "metadata": {},
     "output_type": "execute_result"
    }
   ],
   "source": [
    "df['age_group'] = df['age_group'].replace({'60s': '60+', '70s':'60+'})\n",
    "df['age_group'].value_counts()"
   ]
  },
  {
   "cell_type": "code",
   "execution_count": 28,
   "id": "174ec780",
   "metadata": {
    "scrolled": false
   },
   "outputs": [
    {
     "data": {
      "text/plain": [
       "<Axes: xlabel='age_group', ylabel='Count'>"
      ]
     },
     "execution_count": 28,
     "metadata": {},
     "output_type": "execute_result"
    },
    {
     "data": {
      "image/png": "[encoded data removed]",
      "text/plain": [
       "<Figure size 640x480 with 1 Axes>"
      ]
     },
     "metadata": {},
     "output_type": "display_data"
    }
   ],
   "source": [
    "sns.histplot(df['age_group'])"
   ]
  },
  {
   "cell_type": "markdown",
   "id": "859f47fa",
   "metadata": {},
   "source": [
    "## Exploring Customer Annual Income"
   ]
  },
  {
   "cell_type": "code",
   "execution_count": 29,
   "id": "e147bae7",
   "metadata": {},
   "outputs": [
    {
     "data": {
      "text/plain": [
       "Text(0.5, 1.0, 'Customer Annual Income Distribution')"
      ]
     },
     "execution_count": 29,
     "metadata": {},
     "output_type": "execute_result"
    },
    {
     "data": {
      "image/png": "[encoded data removed]",
      "text/plain": [
       "<Figure size 640x480 with 1 Axes>"
      ]
     },
     "metadata": {},
     "output_type": "display_data"
    }
   ],
   "source": [
    "sns.histplot(df['annual_income'])\n",
    "plt.title('Customer Annual Income Distribution')"
   ]
  },
  {
   "cell_type": "markdown",
   "id": "e2ed88e2",
   "metadata": {},
   "source": [
    "Again, I observe some anomalies. Let's check for them using box plots and properly handle them."
   ]
  },
  {
   "cell_type": "code",
   "execution_count": 30,
   "id": "f7f92ead",
   "metadata": {},
   "outputs": [
    {
     "data": {
      "text/plain": [
       "<Axes: >"
      ]
     },
     "execution_count": 30,
     "metadata": {},
     "output_type": "execute_result"
    },
    {
     "data": {
      "image/png": "[encoded data removed]",
      "text/plain": [
       "<Figure size 640x480 with 1 Axes>"
      ]
     },
     "metadata": {},
     "output_type": "display_data"
    }
   ],
   "source": [
    "sns.boxplot(df['annual_income'])"
   ]
  },
  {
   "cell_type": "code",
   "execution_count": 31,
   "id": "afaff58d",
   "metadata": {},
   "outputs": [],
   "source": [
    "# Removing anomalies that are out of IQR\n",
    "income = df['annual_income']\n",
    "q1 = income.quantile(0.25)\n",
    "q3 = income.quantile(0.75)\n",
    "iqr = q3 - q1\n",
    "lower_bound = q1 - 1.5 * iqr\n",
    "upper_bound = q3 + 1.5 * iqr\n",
    "\n",
    "filter_condition = (income >= lower_bound) & (income <= upper_bound)\n",
    "df = df[filter_condition]"
   ]
  },
  {
   "cell_type": "code",
   "execution_count": 35,
   "id": "3a7cf2c9",
   "metadata": {},
   "outputs": [
    {
     "data": {
      "text/plain": [
       "Text(0.5, 1.0, 'Customer Annual Income Distribution')"
      ]
     },
     "execution_count": 35,
     "metadata": {},
     "output_type": "execute_result"
    },
    {
     "data": {
      "image/png": "[encoded data removed]",
      "text/plain": [
       "<Figure size 640x480 with 1 Axes>"
      ]
     },
     "metadata": {},
     "output_type": "display_data"
    }
   ],
   "source": [
    "sns.histplot(df['annual_income'])\n",
    "plt.title('Customer Annual Income Distribution')"
   ]
  }
 ],
 "metadata": {
  "kernelspec": {
   "display_name": "Python 3 (ipykernel)",
   "language": "python",
   "name": "python3"
  },
  "language_info": {
   "codemirror_mode": {
    "name": "ipython",
    "version": 3
   },
   "file_extension": ".py",
   "mimetype": "text/x-python",
   "name": "python",
   "nbconvert_exporter": "python",
   "pygments_lexer": "ipython3",
   "version": "3.11.4"
  }
 },
 "nbformat": 4,
 "nbformat_minor": 5
}
